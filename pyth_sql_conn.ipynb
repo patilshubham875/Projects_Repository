{
 "cells": [
  {
   "cell_type": "code",
   "execution_count": 31,
   "id": "189beec4",
   "metadata": {},
   "outputs": [],
   "source": [
    "import os\n",
    "import pymysql\n",
    "import pandas as pd\n",
    "import numpy as np\n",
    "import warnings\n",
    "import string\n",
    "import csv\n",
    "import sys\n",
    "from datetime import date\n",
    "warnings.filterwarnings('ignore')"
   ]
  },
  {
   "cell_type": "code",
   "execution_count": 30,
   "id": "b8be1ba4",
   "metadata": {},
   "outputs": [
    {
     "name": "stdout",
     "output_type": "stream",
     "text": [
      "Defaulting to user installation because normal site-packages is not writeable\n",
      "Requirement already satisfied: pymysql in c:\\users\\shubham\\appdata\\roaming\\python\\python39\\site-packages (1.0.2)\n"
     ]
    }
   ],
   "source": [
    "!pip install pymysql"
   ]
  },
  {
   "cell_type": "code",
   "execution_count": 32,
   "id": "f4d95333",
   "metadata": {},
   "outputs": [],
   "source": [
    "host = os.getenv('MYSQL_HOST')\n",
    "port = os.getenv('MYSQL_PORT')\n",
    "user = os.getenv('MYSQL_USER')\n",
    "password = os.getenv('MYSQL_PASSWORD')\n",
    "database = os.getenv('MYSQL_DATABASE')"
   ]
  },
  {
   "cell_type": "code",
   "execution_count": 33,
   "id": "e05eeda5",
   "metadata": {},
   "outputs": [
    {
     "name": "stdout",
     "output_type": "stream",
     "text": [
      "<pymysql.connections.Connection object at 0x000002969B49A160>\n"
     ]
    }
   ],
   "source": [
    "conn = pymysql.connect(\n",
    "    host=host,\n",
    "    port=int(3306),\n",
    "    user=\"root\",\n",
    "    database = \"shopping_billing\",\n",
    "    passwd=\"spatil123\",\n",
    "#     db=\"python_project\",\n",
    "    charset='utf8mb4')\n",
    "print(conn)"
   ]
  },
  {
   "cell_type": "code",
   "execution_count": 34,
   "id": "88467cff",
   "metadata": {},
   "outputs": [],
   "source": [
    "mycur = conn.cursor()"
   ]
  },
  {
   "cell_type": "code",
   "execution_count": 35,
   "id": "21b110df",
   "metadata": {},
   "outputs": [
    {
     "name": "stdout",
     "output_type": "stream",
     "text": [
      "('abc',)\n",
      "('digikull',)\n",
      "('information_schema',)\n",
      "('mysql',)\n",
      "('org',)\n",
      "('performance_schema',)\n",
      "('shopping_billing',)\n",
      "('sqltest',)\n",
      "('sss',)\n",
      "('sys',)\n",
      "('xyz',)\n"
     ]
    }
   ],
   "source": [
    "mycur.execute(\"show databases\") \n",
    "myresult = mycur.fetchall()\n",
    "for i in myresult:\n",
    "  print(i)"
   ]
  },
  {
   "cell_type": "code",
   "execution_count": 36,
   "id": "7fd9ded7",
   "metadata": {},
   "outputs": [
    {
     "data": {
      "text/plain": [
       "0"
      ]
     },
     "execution_count": 36,
     "metadata": {},
     "output_type": "execute_result"
    }
   ],
   "source": [
    "mycur.execute(\"use shopping_billing\") "
   ]
  },
  {
   "cell_type": "code",
   "execution_count": 108,
   "id": "87241742",
   "metadata": {},
   "outputs": [
    {
     "data": {
      "text/plain": [
       "0"
      ]
     },
     "execution_count": 108,
     "metadata": {},
     "output_type": "execute_result"
    }
   ],
   "source": [
    "mycur.execute(\"CREATE TABLE login (id INT AUTO_INCREMENT PRIMARY KEY, name VARCHAR(20), password varchar(10))\") #Login table\n",
    "mycur.execute(\"CREATE TABLE items (id INT AUTO_INCREMENT PRIMARY KEY, item_name CHAR(20), price float(5.3))\") #items table\n",
    "mycur.execute(\"CREATE TABLE bills (bill_id INT AUTO_INCREMENT PRIMARY KEY, c_name CHAR(20), c_phone varchar(10),bill_date date)\")#bills table\n",
    "mycur.execute(\"CREATE TABLE transcation (id INT AUTO_INCREMENT PRIMARY KEY, item_id int(5), qty int(10), bill_id int(10))\")#transcation table"
   ]
  },
  {
   "cell_type": "code",
   "execution_count": 109,
   "id": "3dad17db",
   "metadata": {},
   "outputs": [],
   "source": [
    "mycur.execute(\" INSERT INTO login (id, name, password) VALUES (1, 'Ram', 12345)\")\n",
    "mycur.execute(\" INSERT INTO items (id, item_name, price) VALUES (1, 'soap', 25.00),(2, 'chips', 10.00),(3, 'shampoo',150.00),(4, 'facewash', 79.00),(5, 'pen', 15.00),(6, 'bucket',199.00),(7, 'chair', 750.00),(8, 'pan', 250.00)\")\n",
    "conn.commit()#for load table data into sqlserver"
   ]
  },
  {
   "cell_type": "code",
   "execution_count": 37,
   "id": "1ff20516",
   "metadata": {},
   "outputs": [
    {
     "name": "stdout",
     "output_type": "stream",
     "text": [
      "('bills',)\n",
      "('items',)\n",
      "('login',)\n",
      "('transcation',)\n"
     ]
    }
   ],
   "source": [
    "mycur.execute(\"SHOW TABLES\")\n",
    "my=mycur.fetchall()\n",
    "for i in (my):\n",
    "    print(i)"
   ]
  },
  {
   "cell_type": "code",
   "execution_count": 38,
   "id": "6ca770b1",
   "metadata": {},
   "outputs": [],
   "source": [
    "def clear():\n",
    "    for _ in range(2):\n",
    "        print()"
   ]
  },
  {
   "cell_type": "code",
   "execution_count": 58,
   "id": "4eb284c3",
   "metadata": {},
   "outputs": [],
   "source": [
    "def login():\n",
    "    while True:\n",
    "        clear()\n",
    "        uname =input('Enter your id:')\n",
    "        upass =input('Enter your pass:')\n",
    "        mycur.execute('select * from login where id = \"{}\" and password =\"{}\"'.format(uname,upass))\n",
    "        mycur.fetchall()\n",
    "        rows = mycur.rowcount\n",
    "        if rows!=1:\n",
    "            print('invalid login details..try again')\n",
    "            break\n",
    "        else:\n",
    "            print('\\n   *** Login Successful ***   ')\n",
    "            print('\\n\\npress any key to continue')\n",
    "            wait = input()\n",
    "        \n",
    "        #if upass == password and uname ==id:\n",
    "           # print('\\n   *** Login Successful ***   ') \n",
    "        #else:\n",
    "            #print('invalid login details..try again')\n",
    "            #break"
   ]
  },
  {
   "cell_type": "code",
   "execution_count": 51,
   "id": "45991c80",
   "metadata": {},
   "outputs": [],
   "source": [
    "def last_bill_no():\n",
    "    mycur.execute('select max(bill_id) from bills')\n",
    "    record = mycur.fetchone()\n",
    "    return record"
   ]
  },
  {
   "cell_type": "code",
   "execution_count": 52,
   "id": "3beb3d5f",
   "metadata": {},
   "outputs": [],
   "source": [
    "def find_item(no):\n",
    "    mycur.execute('select * from items where id ={}'.format(no))\n",
    "    record = mycur.fetchone()\n",
    "    return record"
   ]
  },
  {
   "cell_type": "code",
   "execution_count": 53,
   "id": "69547bfd",
   "metadata": {},
   "outputs": [],
   "source": [
    "def item_list():\n",
    "    clear()\n",
    "    sql=\"select * from items\"\n",
    "    mycur.execute(sql)\n",
    "    records = mycur.fetchall()\n",
    "    for row in records:\n",
    "        print(row)\n",
    "    print('\\nPress any key to continue.....')\n",
    "    wait = input()"
   ]
  },
  {
   "cell_type": "code",
   "execution_count": null,
   "id": "4e09d7c0",
   "metadata": {},
   "outputs": [
    {
     "name": "stdout",
     "output_type": "stream",
     "text": [
      "\n",
      "\n",
      "Enter your id:1\n",
      "Enter your pass:123\n",
      "invalid login details..try again\n",
      "\n",
      "\n"
     ]
    }
   ],
   "source": [
    "def billing():\n",
    "    clear()\n",
    "    items =[]\n",
    "    bill_no = last_bill_no()\n",
    "    if bill_no[0]==None:\n",
    "        bill_no =1\n",
    "    else:\n",
    "        bill_no = bill_no[0]+1 \n",
    "\n",
    "    name = input('Enter customer Name :')\n",
    "    phone = input('Enter Phone No :')\n",
    "    today = date.today()\n",
    "    while True:\n",
    "        no = int(input('Enter item No (0 to stop) :'))\n",
    "        if no <=0:\n",
    "            break\n",
    "        else:\n",
    "            item = find_item(no)\n",
    "            if item==None:\n",
    "                print('Item Not found  ')\n",
    "            else:\n",
    "                qty = int(input('Enter Item Qty :'))\n",
    "                item = list(item)\n",
    "                item.append(qty)\n",
    "                items.append(item)\n",
    "\n",
    "    clear()\n",
    "    print(\"                          ***  Supermart  ***                         \")\n",
    "    print(\" \")\n",
    "    print(\"--------------------------------Invoice-------------------------------\")\n",
    "    print(' Phone: 022-2221542,                       Email: supermart@gmail.com ')\n",
    "    print(' Bill No :{}                               Date :{}'.format(bill_no,today))\n",
    "    print('-'*70)\n",
    "    print('Customer Name :{}                          Phone No :{}'.format(name,phone))\n",
    "    print('-'*70)\n",
    "    print('Item Id     Item Name                Price         Qty         Amount ')\n",
    "    print('-'*70)\n",
    "    total =0\n",
    "    for item in items:\n",
    "        print('{:<10d} {:25s} {:.2f} {:>10d}          {:>.2f}'.format(item[0],item[1],item[2],item[3],item[2]*item[3]))\n",
    "        total = total +item[2]*item[3]\n",
    "    print('-'*70)\n",
    "    print('Total Payable amount : {}'.format(total))\n",
    "    print('\\nPress any key to continue........')\n",
    "    #insert data into tables\n",
    "    sql ='insert into bills(c_name,c_phone,bill_date) values(\"{}\",\"{}\",\"{}\");'.format(name,phone,today)\n",
    "    mycur.execute(sql)    \n",
    "    for item in items:\n",
    "        sql='insert into transcation(item_id,qty,bill_id) values({},{},{});'.format(item[0],item[3],bill_no)\n",
    "        mycur.execute(sql)\n",
    "        conn.commit()\n",
    "    wait= input()\n",
    "login()\n",
    "billing()"
   ]
  },
  {
   "cell_type": "code",
   "execution_count": null,
   "id": "3267eb2b",
   "metadata": {},
   "outputs": [],
   "source": [
    "\n",
    "\n"
   ]
  }
 ],
 "metadata": {
  "kernelspec": {
   "display_name": "Python 3 (ipykernel)",
   "language": "python",
   "name": "python3"
  },
  "language_info": {
   "codemirror_mode": {
    "name": "ipython",
    "version": 3
   },
   "file_extension": ".py",
   "mimetype": "text/x-python",
   "name": "python",
   "nbconvert_exporter": "python",
   "pygments_lexer": "ipython3",
   "version": "3.9.12"
  }
 },
 "nbformat": 4,
 "nbformat_minor": 5
}
